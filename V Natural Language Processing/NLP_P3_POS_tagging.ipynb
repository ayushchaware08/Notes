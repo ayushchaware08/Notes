{
  "nbformat": 4,
  "nbformat_minor": 0,
  "metadata": {
    "colab": {
      "provenance": [],
      "authorship_tag": "ABX9TyMhJ0CdXbiCSuzRP1kteujA",
      "include_colab_link": true
    },
    "kernelspec": {
      "name": "python3",
      "display_name": "Python 3"
    },
    "language_info": {
      "name": "python"
    }
  },
  "cells": [
    {
      "cell_type": "markdown",
      "metadata": {
        "id": "view-in-github",
        "colab_type": "text"
      },
      "source": [
        "<a href=\"https://colab.research.google.com/github/ayushchaware08/Notes/blob/main/V%20Natural%20Language%20Processing/NLP_P3_POS_tagging.ipynb\" target=\"_parent\"><img src=\"https://colab.research.google.com/assets/colab-badge.svg\" alt=\"Open In Colab\"/></a>"
      ]
    },
    {
      "cell_type": "markdown",
      "source": [
        "**Name** Ayush Chaware\n",
        "\n",
        "**Roll no** 22\n",
        "\n",
        "**Aim**:Using POS tagging using NLTK"
      ],
      "metadata": {
        "id": "SlrLfDlTwS0h"
      }
    },
    {
      "cell_type": "code",
      "execution_count": null,
      "metadata": {
        "id": "E594b4Kevvc8"
      },
      "outputs": [],
      "source": [
        "import nltk"
      ]
    },
    {
      "cell_type": "code",
      "source": [
        "data = 'Hello, at My name is Ayush. I am currently in B.Tech 3rd year.'\n",
        "data"
      ],
      "metadata": {
        "colab": {
          "base_uri": "https://localhost:8080/",
          "height": 35
        },
        "id": "tA0Ik9pCw284",
        "outputId": "0b4ae168-aff8-46b2-d127-db183725c945"
      },
      "execution_count": null,
      "outputs": [
        {
          "output_type": "execute_result",
          "data": {
            "text/plain": [
              "'Hello, at My name is Ayush. I am currently in B.Tech 3rd year.'"
            ],
            "application/vnd.google.colaboratory.intrinsic+json": {
              "type": "string"
            }
          },
          "metadata": {},
          "execution_count": 65
        }
      ]
    },
    {
      "cell_type": "markdown",
      "source": [
        "**Tokenization**"
      ],
      "metadata": {
        "id": "NuwiqiEcyslR"
      }
    },
    {
      "cell_type": "code",
      "source": [
        "from nltk import word_tokenize as wt\n",
        "token = wt(data)\n",
        "token"
      ],
      "metadata": {
        "colab": {
          "base_uri": "https://localhost:8080/"
        },
        "id": "2OEkY-fJxW54",
        "outputId": "a37d6d9b-b6e6-40d0-c20b-f237520365ac"
      },
      "execution_count": null,
      "outputs": [
        {
          "output_type": "execute_result",
          "data": {
            "text/plain": [
              "['Hello',\n",
              " ',',\n",
              " 'at',\n",
              " 'My',\n",
              " 'name',\n",
              " 'is',\n",
              " 'Ayush',\n",
              " '.',\n",
              " 'I',\n",
              " 'am',\n",
              " 'currently',\n",
              " 'in',\n",
              " 'B.Tech',\n",
              " '3rd',\n",
              " 'year',\n",
              " '.']"
            ]
          },
          "metadata": {},
          "execution_count": 66
        }
      ]
    },
    {
      "cell_type": "markdown",
      "source": [
        "**POS Taggging**"
      ],
      "metadata": {
        "id": "T2NjdYM3yoK4"
      }
    },
    {
      "cell_type": "code",
      "source": [
        "nltk.download('averaged_perceptron_tagger')"
      ],
      "metadata": {
        "colab": {
          "base_uri": "https://localhost:8080/"
        },
        "id": "wQaCPzZLxh1n",
        "outputId": "c8c89e97-e500-499f-a96b-25ab2001b666"
      },
      "execution_count": null,
      "outputs": [
        {
          "output_type": "stream",
          "name": "stderr",
          "text": [
            "[nltk_data] Downloading package averaged_perceptron_tagger to\n",
            "[nltk_data]     /root/nltk_data...\n",
            "[nltk_data]   Package averaged_perceptron_tagger is already up-to-\n",
            "[nltk_data]       date!\n"
          ]
        },
        {
          "output_type": "execute_result",
          "data": {
            "text/plain": [
              "True"
            ]
          },
          "metadata": {},
          "execution_count": 67
        }
      ]
    },
    {
      "cell_type": "code",
      "source": [
        "from nltk import pos_tag\n",
        "tagging = pos_tag(token)\n",
        "tagging"
      ],
      "metadata": {
        "colab": {
          "base_uri": "https://localhost:8080/"
        },
        "id": "W3Jf49cnyac_",
        "outputId": "e07ba027-67c2-45a4-8216-714a9b2b7ee8"
      },
      "execution_count": null,
      "outputs": [
        {
          "output_type": "execute_result",
          "data": {
            "text/plain": [
              "[('Hello', 'NNP'),\n",
              " (',', ','),\n",
              " ('at', 'IN'),\n",
              " ('My', 'NNP'),\n",
              " ('name', 'NN'),\n",
              " ('is', 'VBZ'),\n",
              " ('Ayush', 'NNP'),\n",
              " ('.', '.'),\n",
              " ('I', 'PRP'),\n",
              " ('am', 'VBP'),\n",
              " ('currently', 'RB'),\n",
              " ('in', 'IN'),\n",
              " ('B.Tech', 'NNP'),\n",
              " ('3rd', 'CD'),\n",
              " ('year', 'NN'),\n",
              " ('.', '.')]"
            ]
          },
          "metadata": {},
          "execution_count": 68
        }
      ]
    },
    {
      "cell_type": "code",
      "source": [
        "# Remove Puntuation\n",
        "import re\n",
        "cleaned_tokens = [re.sub(r'[^\\w\\s]', '', tokens) for tokens in token if re.sub(r'[^\\w\\s]', '', tokens)]\n",
        "print(cleaned_tokens)"
      ],
      "metadata": {
        "colab": {
          "base_uri": "https://localhost:8080/"
        },
        "id": "a4yvhwnk8iep",
        "outputId": "b6a085e8-fb68-41fc-bfa6-2f4a9a7c79c7"
      },
      "execution_count": null,
      "outputs": [
        {
          "output_type": "stream",
          "name": "stdout",
          "text": [
            "['Hello', 'at', 'My', 'name', 'is', 'Ayush', 'I', 'am', 'currently', 'in', 'BTech', '3rd', 'year']\n"
          ]
        }
      ]
    },
    {
      "cell_type": "markdown",
      "source": [
        "### POS Tagging in another Language"
      ],
      "metadata": {
        "id": "HLHkf-di5ZcJ"
      }
    },
    {
      "cell_type": "code",
      "source": [
        "text = \"३९ गेंदों में दो चौकों और एक छक्के की मदद से ३४ रन बनाने वाले परोरे अंत तक आउट नहीं हुए ।\""
      ],
      "metadata": {
        "id": "xTBdoUsX6mJQ"
      },
      "execution_count": null,
      "outputs": []
    },
    {
      "cell_type": "code",
      "source": [
        "from nltk.tag import tnt\n",
        "from nltk.corpus import indian\n",
        "train_data = indian.tagged_sents('hindi.pos')\n",
        "tnt_pos_tagger = tnt.TnT()\n",
        "tnt_pos_tagger.train(train_data)"
      ],
      "metadata": {
        "id": "YzO_h8T34dU4"
      },
      "execution_count": null,
      "outputs": []
    },
    {
      "cell_type": "code",
      "source": [
        "token = nltk.word_tokenize(text)\n",
        "tagged_words = (tnt_pos_tagger.tag(token))\n",
        "tagged_words\n"
      ],
      "metadata": {
        "colab": {
          "base_uri": "https://localhost:8080/"
        },
        "id": "hiGpVcAF5h0v",
        "outputId": "01eee72d-80a2-4a3b-d15f-ef868d1f22e0"
      },
      "execution_count": null,
      "outputs": [
        {
          "output_type": "execute_result",
          "data": {
            "text/plain": [
              "[('३९', 'QFNUM'),\n",
              " ('गेंदों', 'NN'),\n",
              " ('में', 'PREP'),\n",
              " ('दो', 'QFNUM'),\n",
              " ('चौकों', 'QFNUM'),\n",
              " ('और', 'CC'),\n",
              " ('एक', 'QFNUM'),\n",
              " ('छक्के', 'QFNUM'),\n",
              " ('की', 'PREP'),\n",
              " ('मदद', 'NN'),\n",
              " ('से', 'PREP'),\n",
              " ('३४', 'QFNUM'),\n",
              " ('रन', 'NN'),\n",
              " ('बनाने', 'VNN'),\n",
              " ('वाले', 'PREP'),\n",
              " ('परोरे', 'NNP'),\n",
              " ('अंत', 'NN'),\n",
              " ('तक', 'PREP'),\n",
              " ('आउट', 'JVB'),\n",
              " ('नहीं', 'NEG'),\n",
              " ('हुए', 'VFM'),\n",
              " ('।', 'PUNC')]"
            ]
          },
          "metadata": {},
          "execution_count": 72
        }
      ]
    },
    {
      "cell_type": "code",
      "source": [
        "# Remove Puntuation\n",
        "import re\n",
        "cleaned_tokens = [re.sub(r'[^\\w\\s]', '', tokens) for tokens in token if re.sub(r'[^\\w\\s]', '', tokens)]\n",
        "print(cleaned_tokens)"
      ],
      "metadata": {
        "colab": {
          "base_uri": "https://localhost:8080/"
        },
        "id": "Le500UBb6ygZ",
        "outputId": "0d15c3c1-3b30-45fd-ba78-605fac4be390"
      },
      "execution_count": null,
      "outputs": [
        {
          "output_type": "stream",
          "name": "stdout",
          "text": [
            "['३९', 'गद', 'म', 'द', 'चक', 'और', 'एक', 'छकक', 'क', 'मदद', 'स', '३४', 'रन', 'बनन', 'वल', 'परर', 'अत', 'तक', 'आउट', 'नह', 'हए']\n"
          ]
        }
      ]
    },
    {
      "cell_type": "markdown",
      "source": [
        "List of tags: https://miro.medium.com/v2/resize:fit:1400/format:webp/1*IyyUw-hnu-aT9RXtmDpUvQ.png"
      ],
      "metadata": {
        "id": "O9plzQUh_FX5"
      }
    }
  ]
}