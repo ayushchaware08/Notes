{
  "nbformat": 4,
  "nbformat_minor": 0,
  "metadata": {
    "colab": {
      "provenance": [],
      "include_colab_link": true
    },
    "kernelspec": {
      "name": "python3",
      "display_name": "Python 3"
    },
    "language_info": {
      "name": "python"
    }
  },
  "cells": [
    {
      "cell_type": "markdown",
      "metadata": {
        "id": "view-in-github",
        "colab_type": "text"
      },
      "source": [
        "<a href=\"https://colab.research.google.com/github/ayushchaware08/Notes/blob/main/V%20Natural%20Language%20Processing/NLP_04_Spelling_Correction.ipynb\" target=\"_parent\"><img src=\"https://colab.research.google.com/assets/colab-badge.svg\" alt=\"Open In Colab\"/></a>"
      ]
    },
    {
      "cell_type": "code",
      "execution_count": null,
      "metadata": {
        "colab": {
          "base_uri": "https://localhost:8080/"
        },
        "id": "wx5Bux96zM9V",
        "outputId": "378bc1ff-3299-4e88-84ea-1583efde2bc2"
      },
      "outputs": [
        {
          "output_type": "stream",
          "name": "stdout",
          "text": [
            "Requirement already satisfied: textblob in /usr/local/lib/python3.10/dist-packages (0.17.1)\n",
            "Requirement already satisfied: nltk>=3.1 in /usr/local/lib/python3.10/dist-packages (from textblob) (3.8.1)\n",
            "Requirement already satisfied: click in /usr/local/lib/python3.10/dist-packages (from nltk>=3.1->textblob) (8.1.7)\n",
            "Requirement already satisfied: joblib in /usr/local/lib/python3.10/dist-packages (from nltk>=3.1->textblob) (1.4.2)\n",
            "Requirement already satisfied: regex>=2021.8.3 in /usr/local/lib/python3.10/dist-packages (from nltk>=3.1->textblob) (2024.5.15)\n",
            "Requirement already satisfied: tqdm in /usr/local/lib/python3.10/dist-packages (from nltk>=3.1->textblob) (4.66.4)\n"
          ]
        },
        {
          "output_type": "stream",
          "name": "stderr",
          "text": [
            "[nltk_data] Downloading package punkt to /root/nltk_data...\n",
            "[nltk_data]   Unzipping tokenizers/punkt.zip.\n"
          ]
        },
        {
          "output_type": "execute_result",
          "data": {
            "text/plain": [
              "True"
            ]
          },
          "metadata": {},
          "execution_count": 1
        }
      ],
      "source": [
        "import nltk\n",
        "!pip install textblob\n",
        "from textblob import TextBlob\n",
        "nltk.download('punkt')"
      ]
    },
    {
      "cell_type": "code",
      "source": [
        "text = \"pineaple\"\n",
        "blob = TextBlob(text)\n",
        "blob\n",
        "blob.correct()\n"
      ],
      "metadata": {
        "colab": {
          "base_uri": "https://localhost:8080/"
        },
        "id": "Dii_BlZvz0Vh",
        "outputId": "1e135d04-37c4-4804-aae0-ab5e5c85c739"
      },
      "execution_count": null,
      "outputs": [
        {
          "output_type": "execute_result",
          "data": {
            "text/plain": [
              "TextBlob(\"pineapple\")"
            ]
          },
          "metadata": {},
          "execution_count": 2
        }
      ]
    },
    {
      "cell_type": "markdown",
      "source": [
        "**Levenshtein Algorithm**"
      ],
      "metadata": {
        "id": "Z54qynt4Fxj7"
      }
    },
    {
      "cell_type": "code",
      "source": [
        "!pip install python-Levenshtein\n",
        "import Levenshtein\n",
        "import re\n",
        "from collections import Counter"
      ],
      "metadata": {
        "colab": {
          "base_uri": "https://localhost:8080/"
        },
        "id": "E-_b-q7V0Rfx",
        "outputId": "f63d984a-2b0d-4210-d564-b66534783970"
      },
      "execution_count": null,
      "outputs": [
        {
          "output_type": "stream",
          "name": "stdout",
          "text": [
            "Collecting python-Levenshtein\n",
            "  Downloading python_Levenshtein-0.25.1-py3-none-any.whl (9.4 kB)\n",
            "Collecting Levenshtein==0.25.1 (from python-Levenshtein)\n",
            "  Downloading Levenshtein-0.25.1-cp310-cp310-manylinux_2_17_x86_64.manylinux2014_x86_64.whl (177 kB)\n",
            "\u001b[2K     \u001b[90m━━━━━━━━━━━━━━━━━━━━━━━━━━━━━━━━━━━━━━━━\u001b[0m \u001b[32m177.4/177.4 kB\u001b[0m \u001b[31m1.4 MB/s\u001b[0m eta \u001b[36m0:00:00\u001b[0m\n",
            "\u001b[?25hCollecting rapidfuzz<4.0.0,>=3.8.0 (from Levenshtein==0.25.1->python-Levenshtein)\n",
            "  Downloading rapidfuzz-3.9.4-cp310-cp310-manylinux_2_17_x86_64.manylinux2014_x86_64.whl (3.4 MB)\n",
            "\u001b[2K     \u001b[90m━━━━━━━━━━━━━━━━━━━━━━━━━━━━━━━━━━━━━━━━\u001b[0m \u001b[32m3.4/3.4 MB\u001b[0m \u001b[31m13.5 MB/s\u001b[0m eta \u001b[36m0:00:00\u001b[0m\n",
            "\u001b[?25hInstalling collected packages: rapidfuzz, Levenshtein, python-Levenshtein\n",
            "Successfully installed Levenshtein-0.25.1 python-Levenshtein-0.25.1 rapidfuzz-3.9.4\n"
          ]
        }
      ]
    },
    {
      "cell_type": "code",
      "source": [
        "data1 = \"thos is a natura\""
      ],
      "metadata": {
        "id": "JcAWf1zX3NR3"
      },
      "execution_count": null,
      "outputs": []
    },
    {
      "cell_type": "code",
      "source": [
        "def words(text):\n",
        "    return re.findall(r'\\w+', text.lower())\n",
        "\n",
        "def load_corpus(file_path):\n",
        "    with open(file_path, 'r', encoding='utf-8') as file:\n",
        "        return words(file.read())"
      ],
      "metadata": {
        "id": "ZGExKO_W3REQ"
      },
      "execution_count": null,
      "outputs": []
    },
    {
      "cell_type": "code",
      "source": [
        "# Function to build vocabulary from the corpus\n",
        "def build_vocab(corpus):\n",
        "    return Counter(corpus)\n"
      ],
      "metadata": {
        "id": "JEGdNR1g3gow"
      },
      "execution_count": null,
      "outputs": []
    },
    {
      "cell_type": "code",
      "source": [
        "# Function to find the closest match using Levenshtein distance\n",
        "def correct_word(word, vocab):\n",
        "    closest_word = min(vocab, key=lambda w: Levenshtein.distance(word, w))\n",
        "    return closest_word"
      ],
      "metadata": {
        "id": "StfOA6Lu3jbQ"
      },
      "execution_count": null,
      "outputs": []
    },
    {
      "cell_type": "code",
      "source": [
        "# Function to correct text using Levenshtein distance\n",
        "def correct_text(text, vocab):\n",
        "    corrected_text = []\n",
        "    for word in text.split():\n",
        "        cleaned_word = re.sub(r'\\W+', '', word)  # Remove punctuation for comparison\n",
        "        if cleaned_word.lower() in vocab:\n",
        "            corrected_word = word  # If the word is correct, keep it as is\n",
        "        else:\n",
        "            corrected_word = correct_word(cleaned_word.lower(), vocab)\n",
        "            if word[0].isupper():\n",
        "                corrected_word = corrected_word.capitalize()\n",
        "        corrected_text.append(corrected_word)\n",
        "    return ' '.join(corrected_text)"
      ],
      "metadata": {
        "id": "bpmVT4353lWg"
      },
      "execution_count": null,
      "outputs": []
    },
    {
      "cell_type": "code",
      "source": [
        "# Load your corpus and build the vocabulary\n",
        "corpus = load_corpus('big.txt')  # Ensure you have a text file named 'big.txt' in the same directory\n",
        "WORDS = build_vocab(corpus)\n"
      ],
      "metadata": {
        "id": "sU75WWIA3zJg"
      },
      "execution_count": null,
      "outputs": []
    },
    {
      "cell_type": "code",
      "source": [
        "# Example usage\n",
        "data1 = \"Tesla continuously upates the software of its cars rather than waitng for a new model year, pposed to nearly every other car manfacturer.\"\n",
        "corrected_text = correct_text(data1, WORDS)\n",
        "print(f\"Original text: {data1}\")\n",
        "print(f\"Corrected text: {corrected_text}\")"
      ],
      "metadata": {
        "colab": {
          "base_uri": "https://localhost:8080/"
        },
        "id": "EMMHO7sL32lA",
        "outputId": "80432cc8-ef33-4eab-97b9-7c63c7edf31a"
      },
      "execution_count": null,
      "outputs": [
        {
          "output_type": "stream",
          "name": "stdout",
          "text": [
            "Original text: Tesla continuously upates the software of its cars rather than waitng for a new model year, pposed to nearly every other car manfacturer.\n",
            "Corrected text: Text consisting users the more of is or the the texting or a be more text more two may over the or another\n"
          ]
        }
      ]
    },
    {
      "cell_type": "code",
      "source": [
        "!pip install pyspellchecker\n",
        "from spellchecker import SpellChecker"
      ],
      "metadata": {
        "colab": {
          "base_uri": "https://localhost:8080/"
        },
        "id": "RRtcJ4vq36Sg",
        "outputId": "4543bcc4-0c9d-4b16-b07c-e273f8395dbe"
      },
      "execution_count": null,
      "outputs": [
        {
          "output_type": "stream",
          "name": "stdout",
          "text": [
            "Collecting pyspellchecker\n",
            "  Downloading pyspellchecker-0.8.1-py3-none-any.whl (6.8 MB)\n",
            "\u001b[2K     \u001b[90m━━━━━━━━━━━━━━━━━━━━━━━━━━━━━━━━━━━━━━━━\u001b[0m \u001b[32m6.8/6.8 MB\u001b[0m \u001b[31m22.6 MB/s\u001b[0m eta \u001b[36m0:00:00\u001b[0m\n",
            "\u001b[?25hInstalling collected packages: pyspellchecker\n",
            "Successfully installed pyspellchecker-0.8.1\n"
          ]
        }
      ]
    },
    {
      "cell_type": "code",
      "source": [
        "import sys\n",
        "!{sys.executable} -m pip install pyspellchecker"
      ],
      "metadata": {
        "colab": {
          "base_uri": "https://localhost:8080/"
        },
        "id": "v601xyHMEfPg",
        "outputId": "28634c87-0952-4223-dacd-3a20a51daeba"
      },
      "execution_count": null,
      "outputs": [
        {
          "output_type": "stream",
          "name": "stdout",
          "text": [
            "Requirement already satisfied: pyspellchecker in /usr/local/lib/python3.10/dist-packages (0.8.1)\n"
          ]
        }
      ]
    },
    {
      "cell_type": "code",
      "source": [
        "spell=SpellChecker()\n",
        "misspelled=spell.unknown([\"computr\",\"watr\"])\n",
        "\n",
        "for word in misspelled:\n",
        "    print(spell.correction(word))\n",
        "    print(spell.candidates(word))"
      ],
      "metadata": {
        "colab": {
          "base_uri": "https://localhost:8080/"
        },
        "id": "tzj7VjKxEouu",
        "outputId": "9e7df0bd-a1af-4443-cc54-5775303c3fb3"
      },
      "execution_count": null,
      "outputs": [
        {
          "output_type": "stream",
          "name": "stdout",
          "text": [
            "water\n",
            "{'war', 'water', 'wart', 'watt', 'wat'}\n",
            "computer\n",
            "{'compute', 'computer'}\n"
          ]
        }
      ]
    }
  ]
}