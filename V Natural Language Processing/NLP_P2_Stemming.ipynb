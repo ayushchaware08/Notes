{
  "nbformat": 4,
  "nbformat_minor": 0,
  "metadata": {
    "colab": {
      "provenance": [],
      "authorship_tag": "ABX9TyOyHFQx2kF/brrJSIGcsX6Q",
      "include_colab_link": true
    },
    "kernelspec": {
      "name": "python3",
      "display_name": "Python 3"
    },
    "language_info": {
      "name": "python"
    }
  },
  "cells": [
    {
      "cell_type": "markdown",
      "metadata": {
        "id": "view-in-github",
        "colab_type": "text"
      },
      "source": [
        "<a href=\"https://colab.research.google.com/github/ayushchaware08/Notes/blob/main/V%20Natural%20Language%20Processing/NLP_P2_Stemming.ipynb\" target=\"_parent\"><img src=\"https://colab.research.google.com/assets/colab-badge.svg\" alt=\"Open In Colab\"/></a>"
      ]
    },
    {
      "cell_type": "markdown",
      "source": [
        "**Name** Ayush Chaware\n",
        "\n",
        "**Roll no** 22\n",
        "\n",
        "**Aim**: Write a python program for getting the meaning of\n",
        "words using Stemming."
      ],
      "metadata": {
        "id": "Yo7Z2WgErmVT"
      }
    },
    {
      "cell_type": "code",
      "source": [
        "import nltk\n",
        "# words = [\"Cry\",\"Happy\",\"Recruited\",\"Bought\",\"Crying\"]\n",
        "\n",
        "words = [\"program\", \"programs\", \"programmer\", \"programming\", \"programmers\"]\n"
      ],
      "metadata": {
        "id": "7s-_3KIlwB8q"
      },
      "execution_count": null,
      "outputs": []
    },
    {
      "cell_type": "markdown",
      "source": [
        "#### **Porter’s Stemmer**"
      ],
      "metadata": {
        "id": "wWS4UztetPSD"
      }
    },
    {
      "cell_type": "code",
      "source": [
        "from nltk.stem import PorterStemmer\n",
        "ps = PorterStemmer()\n",
        "stemmend = [ps.stem(word) for word in words]\n",
        "print(stemmend)"
      ],
      "metadata": {
        "colab": {
          "base_uri": "https://localhost:8080/"
        },
        "id": "wZaUC8-ktOvj",
        "outputId": "59b7b910-32d1-48dc-e872-272c2c869409"
      },
      "execution_count": null,
      "outputs": [
        {
          "output_type": "stream",
          "name": "stdout",
          "text": [
            "['program', 'program', 'programm', 'program', 'programm']\n"
          ]
        }
      ]
    },
    {
      "cell_type": "markdown",
      "source": [
        "#### **Snowball Stemmer**"
      ],
      "metadata": {
        "id": "uyfWYyq_z5Iu"
      }
    },
    {
      "cell_type": "code",
      "source": [
        "from nltk.stem import SnowballStemmer\n",
        "stremmer = SnowballStemmer(language='english')\n",
        "\n",
        "# words = [\"parler\"]\n",
        "# words = [\"running\", \"Better\", \"Happily\", \"Walking\", \"sitting\", \"children\"]\n",
        "\n",
        "stemmed = [stremmer.stem(word) for word in words]\n",
        "\n",
        "stemmed"
      ],
      "metadata": {
        "colab": {
          "base_uri": "https://localhost:8080/"
        },
        "id": "LaQ-GTNy0Jbq",
        "outputId": "e6a8406f-5416-4c33-f130-597e44c8af61"
      },
      "execution_count": null,
      "outputs": [
        {
          "output_type": "execute_result",
          "data": {
            "text/plain": [
              "['program', 'program', 'programm', 'program', 'programm']"
            ]
          },
          "metadata": {},
          "execution_count": 3
        }
      ]
    },
    {
      "cell_type": "markdown",
      "source": [
        "####  **Lancaster Stemmer**"
      ],
      "metadata": {
        "id": "I-wp2Oo41vOb"
      }
    },
    {
      "cell_type": "code",
      "source": [
        "from nltk.stem import LancasterStemmer\n",
        "\n",
        "stemmer = LancasterStemmer()\n",
        "\n",
        "# words = [\"running\", \"Better\", \"Happily\", \"Walking\", \"sitting\", \"children\"]\n",
        "\n",
        "stemmed = [stremmer.stem(word) for word in words]\n",
        "\n",
        "stemmed"
      ],
      "metadata": {
        "colab": {
          "base_uri": "https://localhost:8080/"
        },
        "id": "EgP1rO-E3d1r",
        "outputId": "4094a235-d269-4348-df10-ae6f98d0cb2a"
      },
      "execution_count": null,
      "outputs": [
        {
          "output_type": "execute_result",
          "data": {
            "text/plain": [
              "['program', 'program', 'programm', 'program', 'programm']"
            ]
          },
          "metadata": {},
          "execution_count": 4
        }
      ]
    },
    {
      "cell_type": "markdown",
      "source": [
        "#### **Regexp Stemmer**"
      ],
      "metadata": {
        "id": "Idj6jnbC3uxs"
      }
    },
    {
      "cell_type": "code",
      "source": [
        "from nltk.stem import RegexpStemmer\n",
        "\n",
        "custom_rule = r'ing$'\n",
        "regexp_stemmer = RegexpStemmer(custom_rule)\n",
        "\n",
        "stemmed = [stremmer.stem(word) for word in words]\n",
        "\n",
        "stemmed\n"
      ],
      "metadata": {
        "colab": {
          "base_uri": "https://localhost:8080/"
        },
        "id": "W20zrgR338el",
        "outputId": "8b3c0fda-b53d-4c46-99dc-b40b3942a6b7"
      },
      "execution_count": null,
      "outputs": [
        {
          "output_type": "execute_result",
          "data": {
            "text/plain": [
              "['program', 'program', 'programm', 'program', 'programm']"
            ]
          },
          "metadata": {},
          "execution_count": 5
        }
      ]
    },
    {
      "cell_type": "code",
      "source": [],
      "metadata": {
        "id": "dCqyz8zY6ugl"
      },
      "execution_count": null,
      "outputs": []
    }
  ]
}