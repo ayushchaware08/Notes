{
  "nbformat": 4,
  "nbformat_minor": 0,
  "metadata": {
    "colab": {
      "provenance": [],
      "authorship_tag": "ABX9TyPRKkof0l7kyh3CC+xMShGL",
      "include_colab_link": true
    },
    "kernelspec": {
      "name": "python3",
      "display_name": "Python 3"
    },
    "language_info": {
      "name": "python"
    }
  },
  "cells": [
    {
      "cell_type": "markdown",
      "metadata": {
        "id": "view-in-github",
        "colab_type": "text"
      },
      "source": [
        "<a href=\"https://colab.research.google.com/github/ayushchaware08/Notes/blob/main/V%20Soft%20Computing/SC_P1_fuzzy_set.ipynb\" target=\"_parent\"><img src=\"https://colab.research.google.com/assets/colab-badge.svg\" alt=\"Open In Colab\"/></a>"
      ]
    },
    {
      "cell_type": "code",
      "execution_count": 1,
      "metadata": {
        "id": "NZ15OVjf0vcY"
      },
      "outputs": [],
      "source": [
        "A={(3,0.7),(6,0.1),(8,0.2),(9,0.6),(6,0.8),(5,0.2)}\n",
        "B={(6,0.3),(6,0.7),(4,0.2),(5,0.6),(4,0.8),(5,0.9)}"
      ]
    },
    {
      "cell_type": "code",
      "source": [
        "#union\n",
        "union=[]\n",
        "for i in A:\n",
        "  union.append(i)\n",
        "for i in B:\n",
        "  if i not in A:\n",
        "    union.append(i)\n",
        "print(\"Union: \",union)"
      ],
      "metadata": {
        "colab": {
          "base_uri": "https://localhost:8080/"
        },
        "id": "B71X_nl802Sc",
        "outputId": "6a3e6092-9e46-4c9e-f77a-c0f1496447c9"
      },
      "execution_count": 5,
      "outputs": [
        {
          "output_type": "stream",
          "name": "stdout",
          "text": [
            "Union:  [(5, 0.2), (9, 0.6), (3, 0.7), (8, 0.2), (6, 0.1), (6, 0.8), (5, 0.9), (4, 0.2), (5, 0.6), (6, 0.3), (4, 0.8), (6, 0.7)]\n"
          ]
        }
      ]
    },
    {
      "cell_type": "code",
      "source": [
        "#intersection\n",
        "intersec=[]\n",
        "for i in A:\n",
        "  for j in B:\n",
        "    if i==j:\n",
        "      intersec.append(i)\n",
        "print(\"Intersection: \" ,intersec)"
      ],
      "metadata": {
        "colab": {
          "base_uri": "https://localhost:8080/"
        },
        "id": "s5261t-m04UH",
        "outputId": "23c7c07a-b336-46b8-92c0-be389ef892dc"
      },
      "execution_count": 6,
      "outputs": [
        {
          "output_type": "stream",
          "name": "stdout",
          "text": [
            "Intersection:  []\n"
          ]
        }
      ]
    },
    {
      "cell_type": "code",
      "source": [
        "#difference\n",
        "Y=[]\n",
        "for i in A:\n",
        "  if i not in B:\n",
        "    Y.append(i)\n",
        "print(\"Compliment: \", Y)"
      ],
      "metadata": {
        "colab": {
          "base_uri": "https://localhost:8080/"
        },
        "id": "XvR7rj6O07Og",
        "outputId": "ac2639a9-f94f-4576-d5ab-ae985444c8cf"
      },
      "execution_count": 7,
      "outputs": [
        {
          "output_type": "stream",
          "name": "stdout",
          "text": [
            "Compliment:  [(5, 0.2), (9, 0.6), (3, 0.7), (8, 0.2), (6, 0.1), (6, 0.8)]\n"
          ]
        }
      ]
    },
    {
      "cell_type": "code",
      "source": [
        "#difference\n",
        "Y=[]\n",
        "for i in B:\n",
        "  if i not in A:\n",
        "    Y.append(i)\n",
        "print(\"Compliment: \", Y)"
      ],
      "metadata": {
        "colab": {
          "base_uri": "https://localhost:8080/"
        },
        "id": "o95iP30j09aG",
        "outputId": "1d8a25b6-7f1e-4ebb-e4af-2a800ddad3c1"
      },
      "execution_count": 8,
      "outputs": [
        {
          "output_type": "stream",
          "name": "stdout",
          "text": [
            "Compliment:  [(5, 0.9), (4, 0.2), (5, 0.6), (6, 0.3), (4, 0.8), (6, 0.7)]\n"
          ]
        }
      ]
    },
    {
      "cell_type": "code",
      "source": [
        "A={(5,0.5),(4,0.4),(2,0.3),(7,0.6),(8,0.9),(9,0.9)}\n",
        "A_compliment = []\n",
        "for i in A:\n",
        "  A_compliment.append((i[0], 1-i[1]))\n",
        "A_compliment"
      ],
      "metadata": {
        "colab": {
          "base_uri": "https://localhost:8080/"
        },
        "id": "BnyzYXWw1AZv",
        "outputId": "a573d200-2e51-40de-f61a-0aeebd185f7d"
      },
      "execution_count": 9,
      "outputs": [
        {
          "output_type": "execute_result",
          "data": {
            "text/plain": [
              "[(5, 0.5),\n",
              " (4, 0.6),\n",
              " (8, 0.09999999999999998),\n",
              " (2, 0.7),\n",
              " (9, 0.09999999999999998),\n",
              " (7, 0.4)]"
            ]
          },
          "metadata": {},
          "execution_count": 9
        }
      ]
    },
    {
      "cell_type": "code",
      "source": [],
      "metadata": {
        "id": "V49_R9FQ1B6t"
      },
      "execution_count": null,
      "outputs": []
    }
  ]
}