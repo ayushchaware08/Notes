{
  "nbformat": 4,
  "nbformat_minor": 0,
  "metadata": {
    "colab": {
      "provenance": [],
      "include_colab_link": true
    },
    "kernelspec": {
      "name": "python3",
      "display_name": "Python 3"
    },
    "language_info": {
      "name": "python"
    }
  },
  "cells": [
    {
      "cell_type": "markdown",
      "metadata": {
        "id": "view-in-github",
        "colab_type": "text"
      },
      "source": [
        "<a href=\"https://colab.research.google.com/github/ayushchaware08/Notes/blob/main/V%20Soft%20Computing/SC_P1_fuzzy_set.ipynb\" target=\"_parent\"><img src=\"https://colab.research.google.com/assets/colab-badge.svg\" alt=\"Open In Colab\"/></a>"
      ]
    },
    {
      "cell_type": "markdown",
      "source": [
        "**Name** : Darshan Dhanwade\n",
        "\n",
        "**Roll No.**: 24\n",
        "\n",
        "\n",
        "**Section** : A1"
      ],
      "metadata": {
        "id": "Cx0IYmo4yBip"
      }
    },
    {
      "cell_type": "code",
      "execution_count": null,
      "metadata": {
        "id": "Q0a9Hy2lm4oB"
      },
      "outputs": [],
      "source": [
        "\n",
        "A={(3,0.7),(6,0.1),(8,0.2),(9,0.6),(6,0.8),(5,0.2)}\n",
        "B={(6,0.3),(6,0.7),(4,0.2),(5,0.6),(4,0.8),(5,0.9)}"
      ]
    },
    {
      "cell_type": "code",
      "source": [
        "#union\n",
        "union=[]\n",
        "for i in A:\n",
        "  union.append(i)\n",
        "for i in B:\n",
        "  if i not in Y:\n",
        "    union.append(i)\n",
        "print(\"Union: \",union)"
      ],
      "metadata": {
        "colab": {
          "base_uri": "https://localhost:8080/"
        },
        "id": "PDBRybbVnzzX",
        "outputId": "7fec3426-3b12-4325-8fa6-bea6a1ada808"
      },
      "execution_count": null,
      "outputs": [
        {
          "output_type": "stream",
          "name": "stdout",
          "text": [
            "Union:  [(5, 0.2), (9, 0.6), (3, 0.7), (8, 0.2), (6, 0.1), (6, 0.8), (6, 0.3)]\n"
          ]
        }
      ]
    },
    {
      "cell_type": "code",
      "source": [
        "#intersection\n",
        "intersec=[]\n",
        "for i in A:\n",
        "  for j in B:\n",
        "    if i==j:\n",
        "      intersec.append(i)\n",
        "print(\"Intersection: \" ,intersec)"
      ],
      "metadata": {
        "colab": {
          "base_uri": "https://localhost:8080/"
        },
        "id": "0f6whFIun0sN",
        "outputId": "894c6186-03e1-4afa-c246-609b19565f6b"
      },
      "execution_count": null,
      "outputs": [
        {
          "output_type": "stream",
          "name": "stdout",
          "text": [
            "Intersection:  []\n"
          ]
        }
      ]
    },
    {
      "cell_type": "code",
      "source": [
        "#difference\n",
        "Y=[]\n",
        "for i in A:\n",
        "  if i not in B:\n",
        "    Y.append(i)\n",
        "print(\"Compliment: \", Y)"
      ],
      "metadata": {
        "colab": {
          "base_uri": "https://localhost:8080/"
        },
        "id": "HRu9OK223Ygg",
        "outputId": "57c5cc91-4f87-4f4e-c478-2ecc63374654"
      },
      "execution_count": null,
      "outputs": [
        {
          "output_type": "stream",
          "name": "stdout",
          "text": [
            "Compliment:  [(5, 0.2), (9, 0.6), (3, 0.7), (8, 0.2), (6, 0.1), (6, 0.8)]\n"
          ]
        }
      ]
    },
    {
      "cell_type": "code",
      "source": [
        "#difference\n",
        "Y=[]\n",
        "for i in B:\n",
        "  if i not in A:\n",
        "    Y.append(i)\n",
        "print(\"Compliment: \", Y)"
      ],
      "metadata": {
        "colab": {
          "base_uri": "https://localhost:8080/"
        },
        "id": "sEvYoCVorFGQ",
        "outputId": "df73d64b-3a28-4244-bf2c-d0ce590b1efb"
      },
      "execution_count": null,
      "outputs": [
        {
          "output_type": "stream",
          "name": "stdout",
          "text": [
            "Compliment:  [(5, 0.9), (4, 0.2), (5, 0.6), (6, 0.3), (4, 0.8), (6, 0.7)]\n"
          ]
        }
      ]
    },
    {
      "cell_type": "code",
      "source": [
        "A={(5,0.5),(4,0.4),(2,0.3),(7,0.6),(8,0.9),(9,0.9)}\n",
        "A_compliment = []\n",
        "for i in A:\n",
        "  A_compliment.append((i[0], 1-i[1]))\n",
        "A_compliment"
      ],
      "metadata": {
        "colab": {
          "base_uri": "https://localhost:8080/"
        },
        "id": "OFPgUQuiqrEB",
        "outputId": "454ff77f-8255-4f03-e9f3-7a877ca8b09c"
      },
      "execution_count": null,
      "outputs": [
        {
          "output_type": "execute_result",
          "data": {
            "text/plain": [
              "[(5, 0.5),\n",
              " (4, 0.6),\n",
              " (8, 0.09999999999999998),\n",
              " (2, 0.7),\n",
              " (9, 0.09999999999999998),\n",
              " (7, 0.4)]"
            ]
          },
          "metadata": {},
          "execution_count": 19
        }
      ]
    },
    {
      "cell_type": "code",
      "source": [
        "B_compliment = []\n",
        "for i in B:\n",
        "  B_compliment.append((i[0], 1-i[1]))\n",
        "B_compliment"
      ],
      "metadata": {
        "colab": {
          "base_uri": "https://localhost:8080/"
        },
        "id": "7RhRFMw_tPsq",
        "outputId": "b3b70477-5e28-4466-9615-71023e1c5627"
      },
      "execution_count": null,
      "outputs": [
        {
          "output_type": "execute_result",
          "data": {
            "text/plain": [
              "[(5, 0.09999999999999998),\n",
              " (4, 0.8),\n",
              " (5, 0.4),\n",
              " (6, 0.7),\n",
              " (4, 0.19999999999999996),\n",
              " (6, 0.30000000000000004)]"
            ]
          },
          "metadata": {},
          "execution_count": 20
        }
      ]
    }
  ]
}